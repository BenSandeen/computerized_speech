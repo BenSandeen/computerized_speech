{
 "cells": [
  {
   "cell_type": "code",
   "execution_count": 24,
   "metadata": {
    "collapsed": false
   },
   "outputs": [],
   "source": [
    "import cPickle, pickle\n",
    "import IPython, numpy as np, scipy as sp, matplotlib.pyplot as plt, matplotlib, sklearn, librosa\n",
    "from IPython.display import Audio\n",
    "from joblib import Parallel, delayed\n",
    "from joblib.pool import has_shareable_memory\n",
    "from __future__ import print_function # lets us print without newline to indicate progress\n",
    "try: # only works on Linux/Mac OS system with this library installed; unavailable for Windows\n",
    "    import yaafelib as yaafe # Yet Another Audio Feature Extractor\n",
    "except:\n",
    "    pass\n",
    "import os, os.path\n",
    "import numpy.core.multiarray\n",
    "import matplotlib.gridspec as gridspec\n",
    "import matplotlib as mpl\n",
    "%matplotlib inline\n",
    "import time\n",
    "librosa_loader = librosa.load"
   ]
  },
  {
   "cell_type": "code",
   "execution_count": 2,
   "metadata": {
    "collapsed": true
   },
   "outputs": [],
   "source": [
    "sound_dir = \"Sounds\"\n",
    "sr = 22050\n",
    "\n",
    "my_sounds = {}\n",
    "\n",
    "# loads all sound files AND sample rates in the Sounds/ directory into dict of\n",
    "# audio-sample-rate tuples, with the key being the file's name AND the\n",
    "# approximate pronunciation of the sound in the file\n",
    "\n",
    "# >>> print(my_sounds[key])\n",
    "# [list of numbers representing audio, 1 integer for sample_rate]\n",
    "for i in os.listdir(sound_dir):\n",
    "    if \".wav\" in i:\n",
    "        my_sounds[(i[:-4])] = (librosa.load(\"Sounds/\" + i,sr=sr))"
   ]
  },
  {
   "cell_type": "code",
   "execution_count": 38,
   "metadata": {
    "collapsed": false
   },
   "outputs": [],
   "source": [
    "# pkl_file = open('Convolutions/ab.pkl', 'rb')\n",
    "\n",
    "# data1 = pickle.load(pkl_file)\n",
    "# pprint.pprint(data1)\n",
    "\n",
    "# data2 = pickle.load(pkl_file)\n",
    "# pprint.pprint(data2)\n",
    "\n",
    "# pkl_file.close()\n",
    "\n",
    "# reader = cPickle.load(open('Convolutions/ahch.pkl', 'rb'))\n",
    "\n",
    "with open(\"Convolutions/ab.pkl\", 'rb') as in_file:\n",
    "    ab_convolutions = cPickle.load(in_file)\n",
    "#     print(cPickle.load(in_file))\n",
    "# print(ab_convolutions)"
   ]
  },
  {
   "cell_type": "code",
   "execution_count": 43,
   "metadata": {
    "collapsed": true
   },
   "outputs": [],
   "source": [
    "with open(\"my_sounds.pkl\", 'rb') as in_file:\n",
    "    my_sounds = cPickle.load(in_file)"
   ]
  },
  {
   "cell_type": "code",
   "execution_count": 55,
   "metadata": {
    "collapsed": false
   },
   "outputs": [
    {
     "data": {
      "text/plain": [
       "[<matplotlib.lines.Line2D at 0x9182278>]"
      ]
     },
     "execution_count": 55,
     "metadata": {},
     "output_type": "execute_result"
    },
    {
     "data": {
      "image/png": "[encoded data removed]",
      "text/plain": [
       "<matplotlib.figure.Figure at 0xa07cb70>"
      ]
     },
     "metadata": {},
     "output_type": "display_data"
    }
   ],
   "source": [
    "plt.plot([max(np.sqrt(i**2)) for i in ab_convolutions])\n",
    "# plt.plot(ab_convolutions[830])\n",
    "# print(my_sounds.keys()[830])\n",
    "# plt.show()\n",
    "\n",
    "# print(max((ab_convolutions[9])))\n",
    "# print(max(np.sqrt(ab_convolutions[9]**2)))"
   ]
  },
  {
   "cell_type": "code",
   "execution_count": 124,
   "metadata": {
    "collapsed": false
   },
   "outputs": [],
   "source": [
    "# np.where([max(np.sqrt(i**2)) for i in ab_convolutions] > 10)\n",
    "# ab_convolutions[830][np.where(ab_convolutions[830] > 21)]\n",
    "\n",
    "# gets indices of all sounds whose convolution produced a max abs value greater than the threshold,\n",
    "# which indicates a good amount of similarity\n",
    "threshold = 80\n",
    "maxes = [i for i in xrange(len(ab_convolutions)) if (len(np.where(np.abs(ab_convolutions[i]) > threshold)[0]) > 0)]"
   ]
  },
  {
   "cell_type": "code",
   "execution_count": 125,
   "metadata": {
    "collapsed": false
   },
   "outputs": [
    {
     "name": "stdout",
     "output_type": "stream",
     "text": [
      "830\n",
      "roh\n",
      "roi\n",
      "ouch\n",
      "awhw\n",
      "rou\n"
     ]
    }
   ],
   "source": [
    "print(my_sounds.keys().index(\"ab\"))\n",
    "for i in xrange(len(maxes)):\n",
    "    print(my_sounds.keys()[i])"
   ]
  },
  {
   "cell_type": "code",
   "execution_count": null,
   "metadata": {
    "collapsed": true
   },
   "outputs": [],
   "source": []
  }
 ],
 "metadata": {
  "kernelspec": {
   "display_name": "Python 2",
   "language": "python",
   "name": "python2"
  },
  "language_info": {
   "codemirror_mode": {
    "name": "ipython",
    "version": 2
   },
   "file_extension": ".py",
   "mimetype": "text/x-python",
   "name": "python",
   "nbconvert_exporter": "python",
   "pygments_lexer": "ipython2",
   "version": "2.7.11"
  }
 },
 "nbformat": 4,
 "nbformat_minor": 0
}
